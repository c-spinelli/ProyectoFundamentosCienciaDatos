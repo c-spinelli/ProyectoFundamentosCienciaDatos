{
 "cells": [
  {
   "cell_type": "code",
   "execution_count": 1,
   "id": "8884fbc2-c1ae-4f70-b02e-d8106415d986",
   "metadata": {},
   "outputs": [],
   "source": [
    "# Import de librerias"
   ]
  },
  {
   "cell_type": "code",
   "execution_count": 2,
   "id": "4fc96ce4-3a80-4e8e-8b83-7c18bf37283c",
   "metadata": {},
   "outputs": [],
   "source": [
    "import pandas as pd"
   ]
  },
  {
   "cell_type": "code",
   "execution_count": 3,
   "id": "c1646a88-cf26-4397-b3c5-e477c7c3e077",
   "metadata": {},
   "outputs": [],
   "source": [
    "import matplotlib.pyplot as plt"
   ]
  },
  {
   "cell_type": "code",
   "execution_count": 4,
   "id": "5b780e16-8996-48d5-afa3-101c8d89b27d",
   "metadata": {},
   "outputs": [],
   "source": [
    "import seaborn as sns"
   ]
  },
  {
   "cell_type": "code",
   "execution_count": 5,
   "id": "0dc0e509-6df7-44ba-bd11-3e692683b1ab",
   "metadata": {},
   "outputs": [],
   "source": [
    "import scipy\n",
    "from scipy.stats import pearsonr\n",
    "import numpy as np\n",
    "import statsmodels.api as sm\n",
    "\n",
    "from sklearn.model_selection import train_test_split\n",
    "from sklearn.metrics import confusion_matrix, accuracy_score, roc_auc_score, roc_curve\n",
    "import matplotlib.pyplot as plt"
   ]
  },
  {
   "cell_type": "code",
   "execution_count": 6,
   "id": "250ff997-c5df-4a14-ae9e-95c1332c1f95",
   "metadata": {},
   "outputs": [],
   "source": [
    "# Carga de datos\n",
    "data = pd.read_csv('StudentPerformanceFactors.csv')"
   ]
  },
  {
   "cell_type": "code",
   "execution_count": 7,
   "id": "04829534-ab5a-4350-ab52-e630d661e990",
   "metadata": {},
   "outputs": [
    {
     "name": "stdout",
     "output_type": "stream",
     "text": [
      "\n",
      "Missing values:\n"
     ]
    }
   ],
   "source": [
    "# Analisis de missing values \n",
    "print(\"\\nMissing values:\")\n",
    "missing_values = data.isnull().sum()"
   ]
  },
  {
   "cell_type": "code",
   "execution_count": 8,
   "id": "89fdd1a2-5484-4014-aef5-a870b365bdae",
   "metadata": {},
   "outputs": [],
   "source": [
    "missing_percentage = (missing_values / len(data)) * 100"
   ]
  },
  {
   "cell_type": "code",
   "execution_count": 9,
   "id": "06379494-3b27-44d0-bfe0-dc8df6ce3086",
   "metadata": {},
   "outputs": [],
   "source": [
    "missing_summary = pd.DataFrame({\n",
    "    'Missing Values': missing_values,\n",
    "    'Percentage': missing_percentage\n",
    "})"
   ]
  },
  {
   "cell_type": "code",
   "execution_count": 10,
   "id": "97596ced-274a-4452-9f57-2dd78d290d0d",
   "metadata": {},
   "outputs": [],
   "source": [
    "missing_summary = missing_summary[missing_summary['Missing Values'] > 0]"
   ]
  },
  {
   "cell_type": "code",
   "execution_count": 11,
   "id": "6f3112be-dae3-43da-a154-1bb9d80438b0",
   "metadata": {},
   "outputs": [
    {
     "name": "stdout",
     "output_type": "stream",
     "text": [
      "                          Missing Values  Percentage\n",
      "Teacher_Quality                       78    1.180566\n",
      "Parental_Education_Level              90    1.362192\n",
      "Distance_from_Home                    67    1.014076\n"
     ]
    }
   ],
   "source": [
    "print(missing_summary)"
   ]
  },
  {
   "cell_type": "code",
   "execution_count": 12,
   "id": "e3d0e9d5-384b-4cb2-8e9b-c52807814922",
   "metadata": {},
   "outputs": [
    {
     "name": "stdout",
     "output_type": "stream",
     "text": [
      "Teacher Quality - Moda:  Medium\n",
      "Parental Education Level - Moda:  High School\n",
      "Distance from Home - Moda:  Near\n"
     ]
    }
   ],
   "source": [
    "# ya que los porcentajes de MV son muy bajos para cada variable, busco la moda de cada variable para reemplazarlo\n",
    "teacher_quality_mode = data['Teacher_Quality'].mode()[0]\n",
    "parental_education_mode = data['Parental_Education_Level'].mode()[0]\n",
    "distance_from_home_mode = data['Distance_from_Home'].mode()[0]\n",
    "\n",
    "print(\"Teacher Quality - Moda: \", teacher_quality_mode)\n",
    "print(\"Parental Education Level - Moda: \", parental_education_mode)\n",
    "print(\"Distance from Home - Moda: \", distance_from_home_mode)"
   ]
  },
  {
   "cell_type": "code",
   "execution_count": 13,
   "id": "bf9f7f30-e746-4fc0-b901-88c4f31975e1",
   "metadata": {},
   "outputs": [
    {
     "name": "stdout",
     "output_type": "stream",
     "text": [
      "                          Missing Values  Percentage\n",
      "Teacher_Quality                       78    1.180566\n",
      "Parental_Education_Level              90    1.362192\n",
      "Distance_from_Home                    67    1.014076\n"
     ]
    }
   ],
   "source": [
    "print(missing_summary)"
   ]
  },
  {
   "cell_type": "code",
   "execution_count": 14,
   "id": "da1f4e9c-31b4-4e2c-a047-640d580d1b7a",
   "metadata": {},
   "outputs": [
    {
     "name": "stdout",
     "output_type": "stream",
     "text": [
      "                          Missing Values  Percentage\n",
      "Teacher_Quality                       78    1.180566\n",
      "Parental_Education_Level              90    1.362192\n",
      "Distance_from_Home                    67    1.014076\n"
     ]
    }
   ],
   "source": [
    "print(missing_summary)"
   ]
  },
  {
   "cell_type": "code",
   "execution_count": 15,
   "id": "74533b7d-efd3-43cf-910b-b95328efa7bf",
   "metadata": {},
   "outputs": [
    {
     "name": "stdout",
     "output_type": "stream",
     "text": [
      "Hours_Studied                 0\n",
      "Attendance                    0\n",
      "Parental_Involvement          0\n",
      "Access_to_Resources           0\n",
      "Extracurricular_Activities    0\n",
      "Sleep_Hours                   0\n",
      "Previous_Scores               0\n",
      "Motivation_Level              0\n",
      "Internet_Access               0\n",
      "Tutoring_Sessions             0\n",
      "Family_Income                 0\n",
      "Teacher_Quality               0\n",
      "School_Type                   0\n",
      "Peer_Influence                0\n",
      "Physical_Activity             0\n",
      "Learning_Disabilities         0\n",
      "Parental_Education_Level      0\n",
      "Distance_from_Home            0\n",
      "Gender                        0\n",
      "Exam_Score                    0\n",
      "dtype: int64\n"
     ]
    }
   ],
   "source": [
    "# reemplazo missing values por el valor de la moda para cada caso\n",
    "data['Teacher_Quality'] = data['Teacher_Quality'].fillna(teacher_quality_mode)\n",
    "data['Parental_Education_Level'] = data['Parental_Education_Level'].fillna(parental_education_mode)\n",
    "data['Distance_from_Home'] = data['Distance_from_Home'].fillna(distance_from_home_mode)\n",
    "\n",
    "# verifico si quedan missing values luego de imputarlos\n",
    "print(data.isnull().sum())"
   ]
  },
  {
   "cell_type": "code",
   "execution_count": 16,
   "id": "5065e2b0-e8e6-4a09-b01a-39e0773f862b",
   "metadata": {},
   "outputs": [
    {
     "name": "stdout",
     "output_type": "stream",
     "text": [
      "Exam_Score_Binary\n",
      "0    0.836083\n",
      "1    0.163917\n",
      "Name: proportion, dtype: float64\n"
     ]
    }
   ],
   "source": [
    "# Recodificar Exam_Score en una variable binaria\n",
    "data['Exam_Score_Binary'] = np.where(data['Exam_Score'] > 70, 1, 0)\n",
    "\n",
    "# Comprobar la distribución de la nueva variable\n",
    "print(data['Exam_Score_Binary'].value_counts(normalize=True))"
   ]
  },
  {
   "cell_type": "code",
   "execution_count": 17,
   "id": "065549e3-ccc6-48ab-a58c-00bc876efa2e",
   "metadata": {},
   "outputs": [
    {
     "name": "stdout",
     "output_type": "stream",
     "text": [
      "Optimization terminated successfully.\n",
      "         Current function value: 0.241381\n",
      "         Iterations 8\n",
      "                           Logit Regression Results                           \n",
      "==============================================================================\n",
      "Dep. Variable:      Exam_Score_Binary   No. Observations:                 6607\n",
      "Model:                          Logit   Df Residuals:                     6603\n",
      "Method:                           MLE   Df Model:                            3\n",
      "Date:                Mon, 27 Jan 2025   Pseudo R-squ.:                  0.4589\n",
      "Time:                        15:05:10   Log-Likelihood:                -1594.8\n",
      "converged:                       True   LL-Null:                       -2947.4\n",
      "Covariance Type:            nonrobust   LLR p-value:                     0.000\n",
      "===================================================================================\n",
      "                      coef    std err          z      P>|z|      [0.025      0.975]\n",
      "-----------------------------------------------------------------------------------\n",
      "const             -27.5425      0.823    -33.478      0.000     -29.155     -25.930\n",
      "Attendance          0.1877      0.006     29.727      0.000       0.175       0.200\n",
      "Hours_Studied       0.2841      0.011     27.052      0.000       0.263       0.305\n",
      "Previous_Scores     0.0471      0.003     14.013      0.000       0.040       0.054\n",
      "===================================================================================\n"
     ]
    }
   ],
   "source": [
    "# Variables explicativas\n",
    "X = data[['Attendance', 'Hours_Studied', 'Previous_Scores']]\n",
    "\n",
    "# Agregar constante\n",
    "X = sm.add_constant(X)\n",
    "\n",
    "# Variable dependiente\n",
    "y = data['Exam_Score_Binary']\n",
    "\n",
    "# Ajustar el modelo logístico\n",
    "logit_model = sm.Logit(y, X).fit()\n",
    "\n",
    "# Resumen del modelo\n",
    "print(logit_model.summary())"
   ]
  },
  {
   "cell_type": "code",
   "execution_count": 18,
   "id": "52ddd8c1-c4fb-4ec9-9288-7b51106d1ec7",
   "metadata": {},
   "outputs": [
    {
     "name": "stdout",
     "output_type": "stream",
     "text": [
      "Optimization terminated successfully.\n",
      "         Current function value: 0.243504\n",
      "         Iterations 8\n",
      "Matriz de Confusión:\n",
      " [[1598   51]\n",
      " [ 140  194]]\n",
      "Precisión: 0.90\n",
      "ROC-AUC: 0.93\n"
     ]
    },
    {
     "data": {
      "image/png": "[encoded data removed]",
      "text/plain": [
       "<Figure size 640x480 with 1 Axes>"
      ]
     },
     "metadata": {},
     "output_type": "display_data"
    }
   ],
   "source": [
    "# Dividir los datos en entrenamiento y prueba\n",
    "X_train, X_test, y_train, y_test = train_test_split(X, y, test_size=0.3, random_state=42)\n",
    "\n",
    "# Ajustar el modelo logístico con el conjunto de entrenamiento\n",
    "logit_model_train = sm.Logit(y_train, X_train).fit()\n",
    "\n",
    "# Predicciones en el conjunto de prueba\n",
    "y_pred = logit_model_train.predict(X_test)\n",
    "y_pred_binary = [1 if prob > 0.5 else 0 for prob in y_pred]\n",
    "\n",
    "# Matriz de confusión\n",
    "conf_matrix = confusion_matrix(y_test, y_pred_binary)\n",
    "print(\"Matriz de Confusión:\\n\", conf_matrix)\n",
    "\n",
    "# Métricas de desempeño\n",
    "accuracy = accuracy_score(y_test, y_pred_binary)\n",
    "roc_auc = roc_auc_score(y_test, y_pred)\n",
    "print(f\"Precisión: {accuracy:.2f}\")\n",
    "print(f\"ROC-AUC: {roc_auc:.2f}\")\n",
    "\n",
    "# Curva ROC\n",
    "fpr, tpr, thresholds = roc_curve(y_test, y_pred)\n",
    "plt.plot(fpr, tpr, label=f\"ROC-AUC = {roc_auc:.2f}\")\n",
    "plt.plot([0, 1], [0, 1], linestyle='--', color='gray')\n",
    "plt.xlabel(\"Tasa de Falsos Positivos\")\n",
    "plt.ylabel(\"Tasa de Verdaderos Positivos\")\n",
    "plt.title(\"Curva ROC\")\n",
    "plt.legend()\n",
    "plt.show()"
   ]
  },
  {
   "cell_type": "code",
   "execution_count": null,
   "id": "2de08b91-3b94-49ca-855c-32c6b5fa20f7",
   "metadata": {},
   "outputs": [],
   "source": []
  }
 ],
 "metadata": {
  "kernelspec": {
   "display_name": "Python (myenv)",
   "language": "python",
   "name": "myenv"
  },
  "language_info": {
   "codemirror_mode": {
    "name": "ipython",
    "version": 3
   },
   "file_extension": ".py",
   "mimetype": "text/x-python",
   "name": "python",
   "nbconvert_exporter": "python",
   "pygments_lexer": "ipython3",
   "version": "3.13.0"
  }
 },
 "nbformat": 4,
 "nbformat_minor": 5
}

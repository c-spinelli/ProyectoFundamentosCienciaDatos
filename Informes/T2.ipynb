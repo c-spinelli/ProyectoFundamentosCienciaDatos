{
 "cells": [
  {
   "cell_type": "code",
   "execution_count": 1,
   "id": "9383b06f-36ca-43fc-b8e6-725fc230aa15",
   "metadata": {},
   "outputs": [],
   "source": [
    "import pandas as pd"
   ]
  },
  {
   "cell_type": "code",
   "execution_count": 4,
   "id": "9d555874-e6be-4ed3-83ec-3c6535a935d1",
   "metadata": {},
   "outputs": [],
   "source": [
    "data = pd.read_csv('StudentPerformanceFactors.csv')"
   ]
  },
  {
   "cell_type": "code",
   "execution_count": 7,
   "id": "379aae79-d7f5-4142-8939-fecaadbeecbf",
   "metadata": {},
   "outputs": [
    {
     "name": "stdout",
     "output_type": "stream",
     "text": [
      "7.029060087785682\n"
     ]
    }
   ],
   "source": [
    "print(data['Sleep_Hours'].mean())"
   ]
  },
  {
   "cell_type": "markdown",
   "id": "e23f485c-d313-4e07-b1d6-4e21ee0ea1c1",
   "metadata": {},
   "source": [
    "## Analisis de horas de estudio"
   ]
  },
  {
   "cell_type": "markdown",
   "id": "ea4d331b-49cb-4b40-b4fa-ed0377aedec1",
   "metadata": {},
   "source": [
    "En esta seccion analizaremos el promedio de horas de sueño que tienen los estudiantes bla bla bla "
   ]
  },
  {
   "cell_type": "code",
   "execution_count": null,
   "id": "8c5454be-df2b-41af-aebb-d5d0c1f4a523",
   "metadata": {},
   "outputs": [],
   "source": []
  }
 ],
 "metadata": {
  "kernelspec": {
   "display_name": "Python 3 (ipykernel)",
   "language": "python",
   "name": "python3"
  },
  "language_info": {
   "codemirror_mode": {
    "name": "ipython",
    "version": 3
   },
   "file_extension": ".py",
   "mimetype": "text/x-python",
   "name": "python",
   "nbconvert_exporter": "python",
   "pygments_lexer": "ipython3",
   "version": "3.9.6"
  }
 },
 "nbformat": 4,
 "nbformat_minor": 5
}
